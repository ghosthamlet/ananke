{
 "cells": [
  {
   "cell_type": "markdown",
   "metadata": {},
   "source": [
    "# Causal Inference with Graphical Models\n",
    "\n",
    "Broadly speaking, in causal inference, we are interested in using data from observational studies (as opposed to randomized control trials), in order to answer questions of the following form -- What is the (causal) effect, on some outcome(s) $Y$, of setting (possibly contrary to fact) some variable(s) $A$ to value(s) $a$, via an **_intervention_**. That is to say, causal inference concerns itself with the expression of counterfactual distributions obtained from observational distributions through the process of interventions. Causal effects are sometimes determined using RCTs, but these are often expensive and unethical -- think forcing a random portion of the population to smoke to determine the effect of smoking on lung cancer. The goal of causal inference then is to determine whether such causal effects can be teased out from purely observational data. When such counterfactual quantities can be written as functions of the observed data, they are said to be **_identified_**. Not all causal effects can be identified, but many can -- if we impose enough assumptions on the observed data distribution. Assumptions then, is the price we pay for identifiability, and so being transparent about our assumptions when making causal claims is paramount. This is where **_graphical models_** allow us to concisely, and intuitively state our set of assumptions. In the words of Miguel Hernán, \"Graphical models allow us to draw our assumptions before our conclusions.\""
   ]
  }
 ],
 "metadata": {
  "kernelspec": {
   "display_name": "Python 3",
   "language": "python",
   "name": "python3"
  },
  "language_info": {
   "codemirror_mode": {
    "name": "ipython",
    "version": 3
   },
   "file_extension": ".py",
   "mimetype": "text/x-python",
   "name": "python",
   "nbconvert_exporter": "python",
   "pygments_lexer": "ipython3",
   "version": "3.6.7"
  }
 },
 "nbformat": 4,
 "nbformat_minor": 2
}
